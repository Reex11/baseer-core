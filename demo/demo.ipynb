{
 "cells": [
  {
   "cell_type": "code",
   "execution_count": 1,
   "metadata": {},
   "outputs": [
    {
     "name": "stdout",
     "output_type": "stream",
     "text": [
      "Loading BLIP...\n",
      "BLIP loaded.\n",
      "Using cuda device\n",
      "Loading CLIP...\n",
      "CLIP loaded.\n"
     ]
    },
    {
     "name": "stderr",
     "output_type": "stream",
     "text": [
      "[nltk_data] Downloading package punkt to /home/reex/nltk_data...\n",
      "[nltk_data]   Package punkt is already up-to-date!\n",
      "[nltk_data] Downloading package averaged_perceptron_tagger to\n",
      "[nltk_data]     /home/reex/nltk_data...\n",
      "[nltk_data]   Package averaged_perceptron_tagger is already up-to-\n",
      "[nltk_data]       date!\n"
     ]
    }
   ],
   "source": [
    "from baseer import Baseer\n",
    "\n",
    "baseer = Baseer()"
   ]
  },
  {
   "cell_type": "code",
   "execution_count": 10,
   "metadata": {},
   "outputs": [
    {
     "data": {
      "text/plain": [
       "'a giant robot statue in front of a building'"
      ]
     },
     "execution_count": 10,
     "metadata": {},
     "output_type": "execute_result"
    }
   ],
   "source": [
    "baseer.set_img('images/grendizer.jpg')\n",
    "baseer.BLIP_predict()"
   ]
  },
  {
   "cell_type": "code",
   "execution_count": 11,
   "metadata": {},
   "outputs": [
    {
     "name": "stdout",
     "output_type": "stream",
     "text": [
      "Predicting Using (magic_a)...\n",
      "Generating nouns and looping:\n",
      "\n",
      "\n",
      "\n",
      "————————— Noun: a giant robot statue \n",
      "—— Top 5 similar words:\n",
      "عقال سجود دهن كراث سمبوسة \n",
      "—— Caption:\n",
      "{noun} in front of a building\n",
      "—— CLIP Comparison:\n",
      "[[1.000 0.000 0.000 0.000 0.000 0.000]]\n",
      "\n",
      "—— Updated the caption to:\n",
      "a giant robot statue in front of a building\n",
      "\n",
      "\n",
      "\n",
      "————————— Noun: front \n",
      "—— Top 5 similar words:\n",
      "عقال محراب دهن كراث حطب \n",
      "—— Caption:\n",
      "a giant robot statue in {noun} of a building\n",
      "—— CLIP Comparison:\n",
      "[[0.274 0.213 0.200 0.015 0.217 0.081]]\n",
      "\n",
      "—— Updated the caption to:\n",
      "a giant robot statue in front of a building\n",
      "\n",
      "\n",
      "\n",
      "————————— Noun: a building \n",
      "—— Top 5 similar words:\n",
      "سجود عقال سمبوسة عسيب حطب \n",
      "—— Caption:\n",
      "a giant robot statue in front of {noun}\n",
      "—— CLIP Comparison:\n",
      "[[0.152 0.046 0.462 0.108 0.111 0.120]]\n",
      "\n",
      "—— Updated the caption to:\n",
      "a giant robot statue in front of عقال\n",
      "—— Translating to Arabic:\n",
      "a giant robot statue in front of عقال\n",
      "تمثال روبوت عملاق أمام عقال\n"
     ]
    },
    {
     "data": {
      "text/plain": [
       "'تمثال روبوت عملاق أمام عقال'"
      ]
     },
     "execution_count": 11,
     "metadata": {},
     "output_type": "execute_result"
    }
   ],
   "source": [
    "baseer.predict()"
   ]
  },
  {
   "cell_type": "code",
   "execution_count": null,
   "metadata": {},
   "outputs": [],
   "source": []
  },
  {
   "cell_type": "code",
   "execution_count": null,
   "metadata": {},
   "outputs": [],
   "source": []
  },
  {
   "cell_type": "code",
   "execution_count": null,
   "metadata": {},
   "outputs": [],
   "source": []
  }
 ],
 "metadata": {
  "kernelspec": {
   "display_name": "baseer-57JoirFy-py3.10",
   "language": "python",
   "name": "python3"
  },
  "language_info": {
   "codemirror_mode": {
    "name": "ipython",
    "version": 3
   },
   "file_extension": ".py",
   "mimetype": "text/x-python",
   "name": "python",
   "nbconvert_exporter": "python",
   "pygments_lexer": "ipython3",
   "version": "3.10.6"
  },
  "orig_nbformat": 4,
  "vscode": {
   "interpreter": {
    "hash": "5674446ea8fe0e7f8a949ee86b0b41cafbe8ac294b4a23f6e2668ffb4f9a746c"
   }
  }
 },
 "nbformat": 4,
 "nbformat_minor": 2
}
